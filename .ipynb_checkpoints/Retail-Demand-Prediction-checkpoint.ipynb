{
 "cells": [
  {
   "cell_type": "markdown",
   "metadata": {},
   "source": [
    "## IMPORTS"
   ]
  },
  {
   "cell_type": "code",
   "execution_count": 1,
   "metadata": {},
   "outputs": [],
   "source": [
    "import pandas as pd\n",
    "import numpy as np\n",
    "import matplotlib.pyplot as plt\n",
    "from datetime import timedelta\n",
    "from sklearn.ensemble import RandomForestRegressor\n",
    "from sklearn.metrics import mean_squared_log_error as msle\n",
    "from tqdm import tqdm\n",
    "import warnings\n",
    "warnings.filterwarnings('ignore')\n",
    "import seaborn as sns\n",
    "from tqdm._tqdm_notebook import tqdm_notebook\n",
    "tqdm_notebook.pandas()"
   ]
  },
  {
   "cell_type": "markdown",
   "metadata": {},
   "source": [
    "## LOADING DATA"
   ]
  },
  {
   "cell_type": "code",
   "execution_count": 2,
   "metadata": {},
   "outputs": [],
   "source": [
    "train = pd.read_csv('train.csv')"
   ]
  },
  {
   "cell_type": "code",
   "execution_count": 3,
   "metadata": {},
   "outputs": [],
   "source": [
    "product_data = pd.read_csv('product_data.csv')"
   ]
  },
  {
   "cell_type": "code",
   "execution_count": 4,
   "metadata": {},
   "outputs": [],
   "source": [
    "store_data = pd.read_csv('store_data.csv')"
   ]
  },
  {
   "cell_type": "markdown",
   "metadata": {},
   "source": [
    "## PREPROCESSING"
   ]
  },
  {
   "cell_type": "markdown",
   "metadata": {},
   "source": [
    "### TRAIN DATA"
   ]
  },
  {
   "cell_type": "code",
   "execution_count": 5,
   "metadata": {},
   "outputs": [
    {
     "data": {
      "text/html": [
       "<div>\n",
       "<style scoped>\n",
       "    .dataframe tbody tr th:only-of-type {\n",
       "        vertical-align: middle;\n",
       "    }\n",
       "\n",
       "    .dataframe tbody tr th {\n",
       "        vertical-align: top;\n",
       "    }\n",
       "\n",
       "    .dataframe thead th {\n",
       "        text-align: right;\n",
       "    }\n",
       "</style>\n",
       "<table border=\"1\" class=\"dataframe\">\n",
       "  <thead>\n",
       "    <tr style=\"text-align: right;\">\n",
       "      <th></th>\n",
       "      <th>WEEK_END_DATE</th>\n",
       "      <th>STORE_NUM</th>\n",
       "      <th>UPC</th>\n",
       "      <th>PRICE</th>\n",
       "      <th>BASE_PRICE</th>\n",
       "      <th>FEATURE</th>\n",
       "      <th>DISPLAY</th>\n",
       "      <th>UNITS</th>\n",
       "    </tr>\n",
       "  </thead>\n",
       "  <tbody>\n",
       "    <tr>\n",
       "      <th>0</th>\n",
       "      <td>14-Jan-09</td>\n",
       "      <td>367</td>\n",
       "      <td>1111009477</td>\n",
       "      <td>1.39</td>\n",
       "      <td>1.57</td>\n",
       "      <td>0</td>\n",
       "      <td>0</td>\n",
       "      <td>13</td>\n",
       "    </tr>\n",
       "    <tr>\n",
       "      <th>1</th>\n",
       "      <td>14-Jan-09</td>\n",
       "      <td>367</td>\n",
       "      <td>1111009497</td>\n",
       "      <td>1.39</td>\n",
       "      <td>1.39</td>\n",
       "      <td>0</td>\n",
       "      <td>0</td>\n",
       "      <td>20</td>\n",
       "    </tr>\n",
       "    <tr>\n",
       "      <th>2</th>\n",
       "      <td>14-Jan-09</td>\n",
       "      <td>367</td>\n",
       "      <td>1111085319</td>\n",
       "      <td>1.88</td>\n",
       "      <td>1.88</td>\n",
       "      <td>0</td>\n",
       "      <td>0</td>\n",
       "      <td>14</td>\n",
       "    </tr>\n",
       "    <tr>\n",
       "      <th>3</th>\n",
       "      <td>14-Jan-09</td>\n",
       "      <td>367</td>\n",
       "      <td>1111085345</td>\n",
       "      <td>1.88</td>\n",
       "      <td>1.88</td>\n",
       "      <td>0</td>\n",
       "      <td>0</td>\n",
       "      <td>29</td>\n",
       "    </tr>\n",
       "    <tr>\n",
       "      <th>4</th>\n",
       "      <td>14-Jan-09</td>\n",
       "      <td>367</td>\n",
       "      <td>1111085350</td>\n",
       "      <td>1.98</td>\n",
       "      <td>1.98</td>\n",
       "      <td>0</td>\n",
       "      <td>0</td>\n",
       "      <td>35</td>\n",
       "    </tr>\n",
       "  </tbody>\n",
       "</table>\n",
       "</div>"
      ],
      "text/plain": [
       "  WEEK_END_DATE  STORE_NUM         UPC  PRICE  BASE_PRICE  FEATURE  DISPLAY  \\\n",
       "0     14-Jan-09        367  1111009477   1.39        1.57        0        0   \n",
       "1     14-Jan-09        367  1111009497   1.39        1.39        0        0   \n",
       "2     14-Jan-09        367  1111085319   1.88        1.88        0        0   \n",
       "3     14-Jan-09        367  1111085345   1.88        1.88        0        0   \n",
       "4     14-Jan-09        367  1111085350   1.98        1.98        0        0   \n",
       "\n",
       "   UNITS  \n",
       "0     13  \n",
       "1     20  \n",
       "2     14  \n",
       "3     29  \n",
       "4     35  "
      ]
     },
     "execution_count": 5,
     "metadata": {},
     "output_type": "execute_result"
    }
   ],
   "source": [
    "train.head()"
   ]
  },
  {
   "cell_type": "code",
   "execution_count": 6,
   "metadata": {},
   "outputs": [
    {
     "data": {
      "text/plain": [
       "WEEK_END_DATE     0\n",
       "STORE_NUM         0\n",
       "UPC               0\n",
       "PRICE             3\n",
       "BASE_PRICE       12\n",
       "FEATURE           0\n",
       "DISPLAY           0\n",
       "UNITS             0\n",
       "dtype: int64"
      ]
     },
     "execution_count": 6,
     "metadata": {},
     "output_type": "execute_result"
    }
   ],
   "source": [
    "train.isna().sum()"
   ]
  },
  {
   "cell_type": "markdown",
   "metadata": {},
   "source": [
    "#### WEEK_END_DATE"
   ]
  },
  {
   "cell_type": "markdown",
   "metadata": {},
   "source": [
    "##### CONVERT TO DATETIME"
   ]
  },
  {
   "cell_type": "code",
   "execution_count": 7,
   "metadata": {},
   "outputs": [],
   "source": [
    "train['WEEK_END_DATE'] = pd.to_datetime(train['WEEK_END_DATE'])"
   ]
  },
  {
   "cell_type": "markdown",
   "metadata": {},
   "source": [
    "#### BASE PRICE"
   ]
  },
  {
   "cell_type": "markdown",
   "metadata": {},
   "source": [
    "##### FILL MISSING BASE PRICE WITH MEAN OF STORE OF PARTICULAR UPC"
   ]
  },
  {
   "cell_type": "code",
   "execution_count": 8,
   "metadata": {},
   "outputs": [],
   "source": [
    "avg_price = train.groupby(['STORE_NUM', 'UPC'])['BASE_PRICE'].mean().reset_index()"
   ]
  },
  {
   "cell_type": "code",
   "execution_count": 9,
   "metadata": {},
   "outputs": [],
   "source": [
    "def fill_base_price(x) :\n",
    "    return avg_price[\"BASE_PRICE\"][(avg_price[\"STORE_NUM\"] == x[\"STORE_NUM\"]) & (avg_price[\"UPC\"] == x[\"UPC\"])].values[0]"
   ]
  },
  {
   "cell_type": "code",
   "execution_count": 10,
   "metadata": {},
   "outputs": [],
   "source": [
    "train[\"BASE_PRICE\"][train[\"BASE_PRICE\"].isna() == True] = train[train[\"BASE_PRICE\"].isna() == True].apply(fill_base_price, axis=1)"
   ]
  },
  {
   "cell_type": "markdown",
   "metadata": {},
   "source": [
    "#### PRICE"
   ]
  },
  {
   "cell_type": "markdown",
   "metadata": {},
   "source": [
    "##### FILL MISSING PRICE WITH MEAN OF STORE OF PARTICULAR UPC"
   ]
  },
  {
   "cell_type": "code",
   "execution_count": 11,
   "metadata": {},
   "outputs": [],
   "source": [
    "avg_price = train.groupby(['STORE_NUM', 'UPC'])['PRICE'].mean().reset_index()"
   ]
  },
  {
   "cell_type": "code",
   "execution_count": 12,
   "metadata": {},
   "outputs": [],
   "source": [
    "def fill_price(x) :\n",
    "    return avg_price[\"PRICE\"][(avg_price[\"STORE_NUM\"] == x[\"STORE_NUM\"]) & (avg_price[\"UPC\"] == x[\"UPC\"])].values[0]"
   ]
  },
  {
   "cell_type": "code",
   "execution_count": 13,
   "metadata": {},
   "outputs": [],
   "source": [
    "train[\"PRICE\"][train[\"PRICE\"].isna() == True] = train[train[\"PRICE\"].isna() == True].apply(fill_price, axis=1)"
   ]
  },
  {
   "cell_type": "code",
   "execution_count": 14,
   "metadata": {},
   "outputs": [
    {
     "data": {
      "text/plain": [
       "WEEK_END_DATE    0\n",
       "STORE_NUM        0\n",
       "UPC              0\n",
       "PRICE            0\n",
       "BASE_PRICE       0\n",
       "FEATURE          0\n",
       "DISPLAY          0\n",
       "UNITS            0\n",
       "dtype: int64"
      ]
     },
     "execution_count": 14,
     "metadata": {},
     "output_type": "execute_result"
    }
   ],
   "source": [
    "train.isna().sum()"
   ]
  },
  {
   "cell_type": "markdown",
   "metadata": {},
   "source": [
    "#### UNITS"
   ]
  },
  {
   "cell_type": "code",
   "execution_count": 15,
   "metadata": {},
   "outputs": [
    {
     "data": {
      "image/png": "[encoded data removed]",
      "text/plain": [
       "<Figure size 576x432 with 1 Axes>"
      ]
     },
     "metadata": {
      "needs_background": "light"
     },
     "output_type": "display_data"
    }
   ],
   "source": [
    "plt.figure(figsize=(8,6))\n",
    "plt.scatter(range(train.shape[0]),np.sort(train['UNITS'].values))\n",
    "plt.xlabel('Index', fontsize=12)\n",
    "plt.ylabel('Units Sold', fontsize=12)\n",
    "plt.show()"
   ]
  },
  {
   "cell_type": "code",
   "execution_count": 16,
   "metadata": {},
   "outputs": [
    {
     "data": {
      "text/plain": [
       "(21, 8)"
      ]
     },
     "execution_count": 16,
     "metadata": {},
     "output_type": "execute_result"
    }
   ],
   "source": [
    "train[train.UNITS > 750].shape"
   ]
  },
  {
   "cell_type": "markdown",
   "metadata": {},
   "source": [
    "##### tain has only 21 points with units more than 750 and hence we can afford to remove them"
   ]
  },
  {
   "cell_type": "code",
   "execution_count": 17,
   "metadata": {},
   "outputs": [],
   "source": [
    "train = train[~(train.UNITS > 750)]"
   ]
  },
  {
   "cell_type": "code",
   "execution_count": 18,
   "metadata": {},
   "outputs": [
    {
     "data": {
      "text/html": [
       "<div>\n",
       "<style scoped>\n",
       "    .dataframe tbody tr th:only-of-type {\n",
       "        vertical-align: middle;\n",
       "    }\n",
       "\n",
       "    .dataframe tbody tr th {\n",
       "        vertical-align: top;\n",
       "    }\n",
       "\n",
       "    .dataframe thead th {\n",
       "        text-align: right;\n",
       "    }\n",
       "</style>\n",
       "<table border=\"1\" class=\"dataframe\">\n",
       "  <thead>\n",
       "    <tr style=\"text-align: right;\">\n",
       "      <th></th>\n",
       "      <th>WEEK_END_DATE</th>\n",
       "      <th>STORE_NUM</th>\n",
       "      <th>UPC</th>\n",
       "      <th>PRICE</th>\n",
       "      <th>BASE_PRICE</th>\n",
       "      <th>FEATURE</th>\n",
       "      <th>DISPLAY</th>\n",
       "      <th>UNITS</th>\n",
       "    </tr>\n",
       "  </thead>\n",
       "  <tbody>\n",
       "    <tr>\n",
       "      <th>0</th>\n",
       "      <td>2009-01-14</td>\n",
       "      <td>367</td>\n",
       "      <td>1111009477</td>\n",
       "      <td>1.39</td>\n",
       "      <td>1.57</td>\n",
       "      <td>0</td>\n",
       "      <td>0</td>\n",
       "      <td>13</td>\n",
       "    </tr>\n",
       "    <tr>\n",
       "      <th>1</th>\n",
       "      <td>2009-01-14</td>\n",
       "      <td>367</td>\n",
       "      <td>1111009497</td>\n",
       "      <td>1.39</td>\n",
       "      <td>1.39</td>\n",
       "      <td>0</td>\n",
       "      <td>0</td>\n",
       "      <td>20</td>\n",
       "    </tr>\n",
       "    <tr>\n",
       "      <th>2</th>\n",
       "      <td>2009-01-14</td>\n",
       "      <td>367</td>\n",
       "      <td>1111085319</td>\n",
       "      <td>1.88</td>\n",
       "      <td>1.88</td>\n",
       "      <td>0</td>\n",
       "      <td>0</td>\n",
       "      <td>14</td>\n",
       "    </tr>\n",
       "    <tr>\n",
       "      <th>3</th>\n",
       "      <td>2009-01-14</td>\n",
       "      <td>367</td>\n",
       "      <td>1111085345</td>\n",
       "      <td>1.88</td>\n",
       "      <td>1.88</td>\n",
       "      <td>0</td>\n",
       "      <td>0</td>\n",
       "      <td>29</td>\n",
       "    </tr>\n",
       "    <tr>\n",
       "      <th>4</th>\n",
       "      <td>2009-01-14</td>\n",
       "      <td>367</td>\n",
       "      <td>1111085350</td>\n",
       "      <td>1.98</td>\n",
       "      <td>1.98</td>\n",
       "      <td>0</td>\n",
       "      <td>0</td>\n",
       "      <td>35</td>\n",
       "    </tr>\n",
       "  </tbody>\n",
       "</table>\n",
       "</div>"
      ],
      "text/plain": [
       "  WEEK_END_DATE  STORE_NUM         UPC  PRICE  BASE_PRICE  FEATURE  DISPLAY  \\\n",
       "0    2009-01-14        367  1111009477   1.39        1.57        0        0   \n",
       "1    2009-01-14        367  1111009497   1.39        1.39        0        0   \n",
       "2    2009-01-14        367  1111085319   1.88        1.88        0        0   \n",
       "3    2009-01-14        367  1111085345   1.88        1.88        0        0   \n",
       "4    2009-01-14        367  1111085350   1.98        1.98        0        0   \n",
       "\n",
       "   UNITS  \n",
       "0     13  \n",
       "1     20  \n",
       "2     14  \n",
       "3     29  \n",
       "4     35  "
      ]
     },
     "execution_count": 18,
     "metadata": {},
     "output_type": "execute_result"
    }
   ],
   "source": [
    "train.head()"
   ]
  },
  {
   "cell_type": "markdown",
   "metadata": {},
   "source": [
    "### PRODUCT_DATA"
   ]
  },
  {
   "cell_type": "code",
   "execution_count": 19,
   "metadata": {},
   "outputs": [
    {
     "data": {
      "text/html": [
       "<div>\n",
       "<style scoped>\n",
       "    .dataframe tbody tr th:only-of-type {\n",
       "        vertical-align: middle;\n",
       "    }\n",
       "\n",
       "    .dataframe tbody tr th {\n",
       "        vertical-align: top;\n",
       "    }\n",
       "\n",
       "    .dataframe thead th {\n",
       "        text-align: right;\n",
       "    }\n",
       "</style>\n",
       "<table border=\"1\" class=\"dataframe\">\n",
       "  <thead>\n",
       "    <tr style=\"text-align: right;\">\n",
       "      <th></th>\n",
       "      <th>UPC</th>\n",
       "      <th>DESCRIPTION</th>\n",
       "      <th>MANUFACTURER</th>\n",
       "      <th>CATEGORY</th>\n",
       "      <th>SUB_CATEGORY</th>\n",
       "      <th>PRODUCT_SIZE</th>\n",
       "    </tr>\n",
       "  </thead>\n",
       "  <tbody>\n",
       "    <tr>\n",
       "      <th>0</th>\n",
       "      <td>1111009477</td>\n",
       "      <td>PL MINI TWIST PRETZELS</td>\n",
       "      <td>PRIVATE LABEL</td>\n",
       "      <td>BAG SNACKS</td>\n",
       "      <td>PRETZELS</td>\n",
       "      <td>15 OZ</td>\n",
       "    </tr>\n",
       "    <tr>\n",
       "      <th>1</th>\n",
       "      <td>1111009497</td>\n",
       "      <td>PL PRETZEL STICKS</td>\n",
       "      <td>PRIVATE LABEL</td>\n",
       "      <td>BAG SNACKS</td>\n",
       "      <td>PRETZELS</td>\n",
       "      <td>15 OZ</td>\n",
       "    </tr>\n",
       "    <tr>\n",
       "      <th>2</th>\n",
       "      <td>1111009507</td>\n",
       "      <td>PL TWIST PRETZELS</td>\n",
       "      <td>PRIVATE LABEL</td>\n",
       "      <td>BAG SNACKS</td>\n",
       "      <td>PRETZELS</td>\n",
       "      <td>15 OZ</td>\n",
       "    </tr>\n",
       "    <tr>\n",
       "      <th>3</th>\n",
       "      <td>1111038078</td>\n",
       "      <td>PL BL MINT ANTSPTC RINSE</td>\n",
       "      <td>PRIVATE LABEL</td>\n",
       "      <td>ORAL HYGIENE PRODUCTS</td>\n",
       "      <td>MOUTHWASHES (ANTISEPTIC)</td>\n",
       "      <td>500 ML</td>\n",
       "    </tr>\n",
       "    <tr>\n",
       "      <th>4</th>\n",
       "      <td>1111038080</td>\n",
       "      <td>PL ANTSPTC SPG MNT MTHWS</td>\n",
       "      <td>PRIVATE LABEL</td>\n",
       "      <td>ORAL HYGIENE PRODUCTS</td>\n",
       "      <td>MOUTHWASHES (ANTISEPTIC)</td>\n",
       "      <td>500 ML</td>\n",
       "    </tr>\n",
       "  </tbody>\n",
       "</table>\n",
       "</div>"
      ],
      "text/plain": [
       "          UPC               DESCRIPTION   MANUFACTURER               CATEGORY  \\\n",
       "0  1111009477    PL MINI TWIST PRETZELS  PRIVATE LABEL             BAG SNACKS   \n",
       "1  1111009497         PL PRETZEL STICKS  PRIVATE LABEL             BAG SNACKS   \n",
       "2  1111009507         PL TWIST PRETZELS  PRIVATE LABEL             BAG SNACKS   \n",
       "3  1111038078  PL BL MINT ANTSPTC RINSE  PRIVATE LABEL  ORAL HYGIENE PRODUCTS   \n",
       "4  1111038080  PL ANTSPTC SPG MNT MTHWS  PRIVATE LABEL  ORAL HYGIENE PRODUCTS   \n",
       "\n",
       "               SUB_CATEGORY PRODUCT_SIZE  \n",
       "0                  PRETZELS        15 OZ  \n",
       "1                  PRETZELS        15 OZ  \n",
       "2                  PRETZELS        15 OZ  \n",
       "3  MOUTHWASHES (ANTISEPTIC)       500 ML  \n",
       "4  MOUTHWASHES (ANTISEPTIC)       500 ML  "
      ]
     },
     "execution_count": 19,
     "metadata": {},
     "output_type": "execute_result"
    }
   ],
   "source": [
    "product_data.head()"
   ]
  },
  {
   "cell_type": "code",
   "execution_count": 20,
   "metadata": {},
   "outputs": [
    {
     "data": {
      "text/plain": [
       "UPC             0\n",
       "DESCRIPTION     0\n",
       "MANUFACTURER    0\n",
       "CATEGORY        0\n",
       "SUB_CATEGORY    0\n",
       "PRODUCT_SIZE    0\n",
       "dtype: int64"
      ]
     },
     "execution_count": 20,
     "metadata": {},
     "output_type": "execute_result"
    }
   ],
   "source": [
    "product_data.isna().sum()"
   ]
  },
  {
   "cell_type": "markdown",
   "metadata": {},
   "source": [
    "#### DESCRIPTION"
   ]
  },
  {
   "cell_type": "code",
   "execution_count": 21,
   "metadata": {},
   "outputs": [
    {
     "data": {
      "text/plain": [
       "0        PL MINI TWIST PRETZELS\n",
       "1             PL PRETZEL STICKS\n",
       "2             PL TWIST PRETZELS\n",
       "3      PL BL MINT ANTSPTC RINSE\n",
       "4      PL ANTSPTC SPG MNT MTHWS\n",
       "5      PL HONEY NUT TOASTD OATS\n",
       "6                PL RAISIN BRAN\n",
       "7       PL BT SZ FRSTD SHRD WHT\n",
       "8       PL SR CRUST SUPRM PIZZA\n",
       "9      PL SR CRUST 3 MEAT PIZZA\n",
       "10     PL SR CRUST PEPPRN PIZZA\n",
       "11        GM HONEY NUT CHEERIOS\n",
       "12                  GM CHEERIOS\n",
       "13                  GM CHEERIOS\n",
       "14     RLDGLD TINY TWISTS PRTZL\n",
       "15        RLDGLD PRETZEL STICKS\n",
       "16    SCOPE ORIG MINT MOUTHWASH\n",
       "17      CREST PH CLN MINT RINSE\n",
       "18    KELL BITE SIZE MINI WHEAT\n",
       "19          KELL FROSTED FLAKES\n",
       "20             KELL FROOT LOOPS\n",
       "21          DIGIORNO THREE MEAT\n",
       "22          DIGRN SUPREME PIZZA\n",
       "23             DIGRN PEPP PIZZA\n",
       "24     FRSC BRCK OVN ITL PEP PZ\n",
       "25           SNYDR PRETZEL RODS\n",
       "26     SNYDR SOURDOUGH NIBBLERS\n",
       "27       SNYDR FF MINI PRETZELS\n",
       "28    LSTRNE CL MINT ANTSPTC MW\n",
       "29    LSTRNE FRS BRST ANTSPC MW\n",
       "Name: DESCRIPTION, dtype: object"
      ]
     },
     "execution_count": 21,
     "metadata": {},
     "output_type": "execute_result"
    }
   ],
   "source": [
    "product_data[\"DESCRIPTION\"]"
   ]
  },
  {
   "cell_type": "markdown",
   "metadata": {},
   "source": [
    "##### DESCRIPTION CONTAINS DATA ALREADY PRESENT IN OTHER COLUMNS"
   ]
  },
  {
   "cell_type": "code",
   "execution_count": 22,
   "metadata": {},
   "outputs": [],
   "source": [
    "product_data = product_data.drop(columns= ['DESCRIPTION'])"
   ]
  },
  {
   "cell_type": "markdown",
   "metadata": {},
   "source": [
    "#### PRODUCT_SIZE"
   ]
  },
  {
   "cell_type": "markdown",
   "metadata": {},
   "source": [
    "##### BINNING THE PRODUCT_SIZE ACCORDING TO EACH CATEGORY"
   ]
  },
  {
   "cell_type": "code",
   "execution_count": 23,
   "metadata": {},
   "outputs": [],
   "source": [
    "product_data['PRODUCT_SIZE'] = product_data['PRODUCT_SIZE'].apply(lambda x: x.split()[0])"
   ]
  },
  {
   "cell_type": "code",
   "execution_count": 24,
   "metadata": {},
   "outputs": [],
   "source": [
    "product_data['PRODUCT_SIZE'] = product_data['PRODUCT_SIZE'].astype(float)"
   ]
  },
  {
   "cell_type": "code",
   "execution_count": 25,
   "metadata": {},
   "outputs": [
    {
     "data": {
      "text/plain": [
       "CATEGORY\n",
       "BAG SNACKS                                  [15.0, 16.0, 10.0]\n",
       "COLD CEREAL              [12.25, 20.0, 18.0, 12.0, 15.0, 12.2]\n",
       "FROZEN PIZZA              [32.7, 30.5, 29.6, 29.8, 28.3, 22.7]\n",
       "ORAL HYGIENE PRODUCTS                             [500.0, 1.0]\n",
       "Name: PRODUCT_SIZE, dtype: object"
      ]
     },
     "execution_count": 25,
     "metadata": {},
     "output_type": "execute_result"
    }
   ],
   "source": [
    "product_data.groupby(['CATEGORY'])['PRODUCT_SIZE'].unique()"
   ]
  },
  {
   "cell_type": "code",
   "execution_count": 26,
   "metadata": {
    "scrolled": true
   },
   "outputs": [],
   "source": [
    "product_data.loc[product_data['CATEGORY'] == 'COLD CEREAL', 'PRODUCT_SIZE'] = pd.cut(product_data['PRODUCT_SIZE'], bins=[10,13,16,21], labels=[1,2,3]).astype('float64')"
   ]
  },
  {
   "cell_type": "code",
   "execution_count": 27,
   "metadata": {},
   "outputs": [],
   "source": [
    "product_data.loc[product_data['CATEGORY'] == 'ORAL HYGIENE PRODUCTS', 'PRODUCT_SIZE'] = pd.cut(product_data['PRODUCT_SIZE'], bins=[0,501,1001], labels=[1,2]).astype('float64')"
   ]
  },
  {
   "cell_type": "code",
   "execution_count": 28,
   "metadata": {},
   "outputs": [],
   "source": [
    "product_data.loc[product_data['CATEGORY'] == 'FROZEN PIZZA', 'PRODUCT_SIZE'] = pd.cut(product_data['PRODUCT_SIZE'], bins=[20,25,30,35], labels=[1,2,3]).astype('float64')"
   ]
  },
  {
   "cell_type": "code",
   "execution_count": 29,
   "metadata": {},
   "outputs": [],
   "source": [
    "product_data.loc[product_data['CATEGORY'] == 'BAG SNACKS', 'PRODUCT_SIZE'] = pd.cut(product_data['PRODUCT_SIZE'], bins=[9,14,20], labels=[1,2]).astype('float64')"
   ]
  },
  {
   "cell_type": "code",
   "execution_count": 30,
   "metadata": {},
   "outputs": [
    {
     "data": {
      "text/plain": [
       "1.0    12\n",
       "2.0    11\n",
       "3.0     7\n",
       "Name: PRODUCT_SIZE, dtype: int64"
      ]
     },
     "execution_count": 30,
     "metadata": {},
     "output_type": "execute_result"
    }
   ],
   "source": [
    "product_data['PRODUCT_SIZE'].value_counts()"
   ]
  },
  {
   "cell_type": "markdown",
   "metadata": {},
   "source": [
    "#### MANUFACTURER CATEGORY SUB_CATEGORY"
   ]
  },
  {
   "cell_type": "markdown",
   "metadata": {},
   "source": [
    "##### ONE HOT ENCODING"
   ]
  },
  {
   "cell_type": "code",
   "execution_count": 31,
   "metadata": {},
   "outputs": [],
   "source": [
    "product_data = pd.concat([pd.get_dummies(product_data[[\"MANUFACTURER\", \"CATEGORY\", \"SUB_CATEGORY\"]]), product_data], axis = 1)"
   ]
  },
  {
   "cell_type": "code",
   "execution_count": 32,
   "metadata": {},
   "outputs": [],
   "source": [
    "product_data = product_data.drop([\"MANUFACTURER\", \"CATEGORY\", \"SUB_CATEGORY\"], axis = 1)"
   ]
  },
  {
   "cell_type": "code",
   "execution_count": 33,
   "metadata": {},
   "outputs": [
    {
     "data": {
      "text/html": [
       "<div>\n",
       "<style scoped>\n",
       "    .dataframe tbody tr th:only-of-type {\n",
       "        vertical-align: middle;\n",
       "    }\n",
       "\n",
       "    .dataframe tbody tr th {\n",
       "        vertical-align: top;\n",
       "    }\n",
       "\n",
       "    .dataframe thead th {\n",
       "        text-align: right;\n",
       "    }\n",
       "</style>\n",
       "<table border=\"1\" class=\"dataframe\">\n",
       "  <thead>\n",
       "    <tr style=\"text-align: right;\">\n",
       "      <th></th>\n",
       "      <th>MANUFACTURER_FRITO LAY</th>\n",
       "      <th>MANUFACTURER_GENERAL MI</th>\n",
       "      <th>MANUFACTURER_KELLOGG</th>\n",
       "      <th>MANUFACTURER_P &amp; G</th>\n",
       "      <th>MANUFACTURER_PRIVATE LABEL</th>\n",
       "      <th>MANUFACTURER_SNYDER S</th>\n",
       "      <th>MANUFACTURER_TOMBSTONE</th>\n",
       "      <th>MANUFACTURER_TONYS</th>\n",
       "      <th>MANUFACTURER_WARNER</th>\n",
       "      <th>CATEGORY_BAG SNACKS</th>\n",
       "      <th>...</th>\n",
       "      <th>CATEGORY_ORAL HYGIENE PRODUCTS</th>\n",
       "      <th>SUB_CATEGORY_ADULT CEREAL</th>\n",
       "      <th>SUB_CATEGORY_ALL FAMILY CEREAL</th>\n",
       "      <th>SUB_CATEGORY_KIDS CEREAL</th>\n",
       "      <th>SUB_CATEGORY_MOUTHWASH/RINSES AND SPRAYS</th>\n",
       "      <th>SUB_CATEGORY_MOUTHWASHES (ANTISEPTIC)</th>\n",
       "      <th>SUB_CATEGORY_PIZZA/PREMIUM</th>\n",
       "      <th>SUB_CATEGORY_PRETZELS</th>\n",
       "      <th>UPC</th>\n",
       "      <th>PRODUCT_SIZE</th>\n",
       "    </tr>\n",
       "  </thead>\n",
       "  <tbody>\n",
       "    <tr>\n",
       "      <th>0</th>\n",
       "      <td>0</td>\n",
       "      <td>0</td>\n",
       "      <td>0</td>\n",
       "      <td>0</td>\n",
       "      <td>1</td>\n",
       "      <td>0</td>\n",
       "      <td>0</td>\n",
       "      <td>0</td>\n",
       "      <td>0</td>\n",
       "      <td>1</td>\n",
       "      <td>...</td>\n",
       "      <td>0</td>\n",
       "      <td>0</td>\n",
       "      <td>0</td>\n",
       "      <td>0</td>\n",
       "      <td>0</td>\n",
       "      <td>0</td>\n",
       "      <td>0</td>\n",
       "      <td>1</td>\n",
       "      <td>1111009477</td>\n",
       "      <td>2.0</td>\n",
       "    </tr>\n",
       "    <tr>\n",
       "      <th>1</th>\n",
       "      <td>0</td>\n",
       "      <td>0</td>\n",
       "      <td>0</td>\n",
       "      <td>0</td>\n",
       "      <td>1</td>\n",
       "      <td>0</td>\n",
       "      <td>0</td>\n",
       "      <td>0</td>\n",
       "      <td>0</td>\n",
       "      <td>1</td>\n",
       "      <td>...</td>\n",
       "      <td>0</td>\n",
       "      <td>0</td>\n",
       "      <td>0</td>\n",
       "      <td>0</td>\n",
       "      <td>0</td>\n",
       "      <td>0</td>\n",
       "      <td>0</td>\n",
       "      <td>1</td>\n",
       "      <td>1111009497</td>\n",
       "      <td>2.0</td>\n",
       "    </tr>\n",
       "    <tr>\n",
       "      <th>2</th>\n",
       "      <td>0</td>\n",
       "      <td>0</td>\n",
       "      <td>0</td>\n",
       "      <td>0</td>\n",
       "      <td>1</td>\n",
       "      <td>0</td>\n",
       "      <td>0</td>\n",
       "      <td>0</td>\n",
       "      <td>0</td>\n",
       "      <td>1</td>\n",
       "      <td>...</td>\n",
       "      <td>0</td>\n",
       "      <td>0</td>\n",
       "      <td>0</td>\n",
       "      <td>0</td>\n",
       "      <td>0</td>\n",
       "      <td>0</td>\n",
       "      <td>0</td>\n",
       "      <td>1</td>\n",
       "      <td>1111009507</td>\n",
       "      <td>2.0</td>\n",
       "    </tr>\n",
       "    <tr>\n",
       "      <th>3</th>\n",
       "      <td>0</td>\n",
       "      <td>0</td>\n",
       "      <td>0</td>\n",
       "      <td>0</td>\n",
       "      <td>1</td>\n",
       "      <td>0</td>\n",
       "      <td>0</td>\n",
       "      <td>0</td>\n",
       "      <td>0</td>\n",
       "      <td>0</td>\n",
       "      <td>...</td>\n",
       "      <td>1</td>\n",
       "      <td>0</td>\n",
       "      <td>0</td>\n",
       "      <td>0</td>\n",
       "      <td>0</td>\n",
       "      <td>1</td>\n",
       "      <td>0</td>\n",
       "      <td>0</td>\n",
       "      <td>1111038078</td>\n",
       "      <td>1.0</td>\n",
       "    </tr>\n",
       "    <tr>\n",
       "      <th>4</th>\n",
       "      <td>0</td>\n",
       "      <td>0</td>\n",
       "      <td>0</td>\n",
       "      <td>0</td>\n",
       "      <td>1</td>\n",
       "      <td>0</td>\n",
       "      <td>0</td>\n",
       "      <td>0</td>\n",
       "      <td>0</td>\n",
       "      <td>0</td>\n",
       "      <td>...</td>\n",
       "      <td>1</td>\n",
       "      <td>0</td>\n",
       "      <td>0</td>\n",
       "      <td>0</td>\n",
       "      <td>0</td>\n",
       "      <td>1</td>\n",
       "      <td>0</td>\n",
       "      <td>0</td>\n",
       "      <td>1111038080</td>\n",
       "      <td>1.0</td>\n",
       "    </tr>\n",
       "  </tbody>\n",
       "</table>\n",
       "<p>5 rows × 22 columns</p>\n",
       "</div>"
      ],
      "text/plain": [
       "   MANUFACTURER_FRITO LAY  MANUFACTURER_GENERAL MI  MANUFACTURER_KELLOGG  \\\n",
       "0                       0                        0                     0   \n",
       "1                       0                        0                     0   \n",
       "2                       0                        0                     0   \n",
       "3                       0                        0                     0   \n",
       "4                       0                        0                     0   \n",
       "\n",
       "   MANUFACTURER_P & G  MANUFACTURER_PRIVATE LABEL  MANUFACTURER_SNYDER S  \\\n",
       "0                   0                           1                      0   \n",
       "1                   0                           1                      0   \n",
       "2                   0                           1                      0   \n",
       "3                   0                           1                      0   \n",
       "4                   0                           1                      0   \n",
       "\n",
       "   MANUFACTURER_TOMBSTONE  MANUFACTURER_TONYS  MANUFACTURER_WARNER  \\\n",
       "0                       0                   0                    0   \n",
       "1                       0                   0                    0   \n",
       "2                       0                   0                    0   \n",
       "3                       0                   0                    0   \n",
       "4                       0                   0                    0   \n",
       "\n",
       "   CATEGORY_BAG SNACKS  ...  CATEGORY_ORAL HYGIENE PRODUCTS  \\\n",
       "0                    1  ...                               0   \n",
       "1                    1  ...                               0   \n",
       "2                    1  ...                               0   \n",
       "3                    0  ...                               1   \n",
       "4                    0  ...                               1   \n",
       "\n",
       "   SUB_CATEGORY_ADULT CEREAL  SUB_CATEGORY_ALL FAMILY CEREAL  \\\n",
       "0                          0                               0   \n",
       "1                          0                               0   \n",
       "2                          0                               0   \n",
       "3                          0                               0   \n",
       "4                          0                               0   \n",
       "\n",
       "   SUB_CATEGORY_KIDS CEREAL  SUB_CATEGORY_MOUTHWASH/RINSES AND SPRAYS  \\\n",
       "0                         0                                         0   \n",
       "1                         0                                         0   \n",
       "2                         0                                         0   \n",
       "3                         0                                         0   \n",
       "4                         0                                         0   \n",
       "\n",
       "   SUB_CATEGORY_MOUTHWASHES (ANTISEPTIC)  SUB_CATEGORY_PIZZA/PREMIUM  \\\n",
       "0                                      0                           0   \n",
       "1                                      0                           0   \n",
       "2                                      0                           0   \n",
       "3                                      1                           0   \n",
       "4                                      1                           0   \n",
       "\n",
       "   SUB_CATEGORY_PRETZELS         UPC  PRODUCT_SIZE  \n",
       "0                      1  1111009477           2.0  \n",
       "1                      1  1111009497           2.0  \n",
       "2                      1  1111009507           2.0  \n",
       "3                      0  1111038078           1.0  \n",
       "4                      0  1111038080           1.0  \n",
       "\n",
       "[5 rows x 22 columns]"
      ]
     },
     "execution_count": 33,
     "metadata": {},
     "output_type": "execute_result"
    }
   ],
   "source": [
    "product_data.head()"
   ]
  },
  {
   "cell_type": "markdown",
   "metadata": {},
   "source": [
    "### STORE_DATA"
   ]
  },
  {
   "cell_type": "code",
   "execution_count": 34,
   "metadata": {},
   "outputs": [
    {
     "data": {
      "text/html": [
       "<div>\n",
       "<style scoped>\n",
       "    .dataframe tbody tr th:only-of-type {\n",
       "        vertical-align: middle;\n",
       "    }\n",
       "\n",
       "    .dataframe tbody tr th {\n",
       "        vertical-align: top;\n",
       "    }\n",
       "\n",
       "    .dataframe thead th {\n",
       "        text-align: right;\n",
       "    }\n",
       "</style>\n",
       "<table border=\"1\" class=\"dataframe\">\n",
       "  <thead>\n",
       "    <tr style=\"text-align: right;\">\n",
       "      <th></th>\n",
       "      <th>STORE_ID</th>\n",
       "      <th>STORE_NAME</th>\n",
       "      <th>ADDRESS_CITY_NAME</th>\n",
       "      <th>ADDRESS_STATE_PROV_CODE</th>\n",
       "      <th>MSA_CODE</th>\n",
       "      <th>SEG_VALUE_NAME</th>\n",
       "      <th>PARKING_SPACE_QTY</th>\n",
       "      <th>SALES_AREA_SIZE_NUM</th>\n",
       "      <th>AVG_WEEKLY_BASKETS</th>\n",
       "    </tr>\n",
       "  </thead>\n",
       "  <tbody>\n",
       "    <tr>\n",
       "      <th>0</th>\n",
       "      <td>367</td>\n",
       "      <td>15TH &amp; MADISON</td>\n",
       "      <td>COVINGTON</td>\n",
       "      <td>KY</td>\n",
       "      <td>17140</td>\n",
       "      <td>VALUE</td>\n",
       "      <td>196.0</td>\n",
       "      <td>24721</td>\n",
       "      <td>12707</td>\n",
       "    </tr>\n",
       "    <tr>\n",
       "      <th>1</th>\n",
       "      <td>389</td>\n",
       "      <td>SILVERLAKE</td>\n",
       "      <td>ERLANGER</td>\n",
       "      <td>KY</td>\n",
       "      <td>17140</td>\n",
       "      <td>MAINSTREAM</td>\n",
       "      <td>408.0</td>\n",
       "      <td>46073</td>\n",
       "      <td>24767</td>\n",
       "    </tr>\n",
       "    <tr>\n",
       "      <th>2</th>\n",
       "      <td>613</td>\n",
       "      <td>EAST ALLEN</td>\n",
       "      <td>ALLEN</td>\n",
       "      <td>TX</td>\n",
       "      <td>19100</td>\n",
       "      <td>MAINSTREAM</td>\n",
       "      <td>464.0</td>\n",
       "      <td>64926</td>\n",
       "      <td>29386</td>\n",
       "    </tr>\n",
       "    <tr>\n",
       "      <th>3</th>\n",
       "      <td>623</td>\n",
       "      <td>HOUSTON</td>\n",
       "      <td>HOUSTON</td>\n",
       "      <td>TX</td>\n",
       "      <td>26420</td>\n",
       "      <td>MAINSTREAM</td>\n",
       "      <td>NaN</td>\n",
       "      <td>46930</td>\n",
       "      <td>36741</td>\n",
       "    </tr>\n",
       "    <tr>\n",
       "      <th>4</th>\n",
       "      <td>2277</td>\n",
       "      <td>ANDERSON TOWNE CTR</td>\n",
       "      <td>CINCINNATI</td>\n",
       "      <td>OH</td>\n",
       "      <td>17140</td>\n",
       "      <td>UPSCALE</td>\n",
       "      <td>NaN</td>\n",
       "      <td>81958</td>\n",
       "      <td>54053</td>\n",
       "    </tr>\n",
       "  </tbody>\n",
       "</table>\n",
       "</div>"
      ],
      "text/plain": [
       "   STORE_ID          STORE_NAME ADDRESS_CITY_NAME ADDRESS_STATE_PROV_CODE  \\\n",
       "0       367      15TH & MADISON         COVINGTON                      KY   \n",
       "1       389          SILVERLAKE          ERLANGER                      KY   \n",
       "2       613          EAST ALLEN             ALLEN                      TX   \n",
       "3       623             HOUSTON           HOUSTON                      TX   \n",
       "4      2277  ANDERSON TOWNE CTR        CINCINNATI                      OH   \n",
       "\n",
       "   MSA_CODE SEG_VALUE_NAME  PARKING_SPACE_QTY  SALES_AREA_SIZE_NUM  \\\n",
       "0     17140          VALUE              196.0                24721   \n",
       "1     17140     MAINSTREAM              408.0                46073   \n",
       "2     19100     MAINSTREAM              464.0                64926   \n",
       "3     26420     MAINSTREAM                NaN                46930   \n",
       "4     17140        UPSCALE                NaN                81958   \n",
       "\n",
       "   AVG_WEEKLY_BASKETS  \n",
       "0               12707  \n",
       "1               24767  \n",
       "2               29386  \n",
       "3               36741  \n",
       "4               54053  "
      ]
     },
     "execution_count": 34,
     "metadata": {},
     "output_type": "execute_result"
    }
   ],
   "source": [
    "store_data.head()"
   ]
  },
  {
   "cell_type": "code",
   "execution_count": 35,
   "metadata": {},
   "outputs": [
    {
     "data": {
      "text/plain": [
       "STORE_ID                    0\n",
       "STORE_NAME                  0\n",
       "ADDRESS_CITY_NAME           0\n",
       "ADDRESS_STATE_PROV_CODE     0\n",
       "MSA_CODE                    0\n",
       "SEG_VALUE_NAME              0\n",
       "PARKING_SPACE_QTY          51\n",
       "SALES_AREA_SIZE_NUM         0\n",
       "AVG_WEEKLY_BASKETS          0\n",
       "dtype: int64"
      ]
     },
     "execution_count": 35,
     "metadata": {},
     "output_type": "execute_result"
    }
   ],
   "source": [
    "store_data.isna().sum()"
   ]
  },
  {
   "cell_type": "code",
   "execution_count": 36,
   "metadata": {},
   "outputs": [
    {
     "data": {
      "text/plain": [
       "STORE_ID                   76\n",
       "STORE_NAME                 72\n",
       "ADDRESS_CITY_NAME          51\n",
       "ADDRESS_STATE_PROV_CODE     4\n",
       "MSA_CODE                    9\n",
       "SEG_VALUE_NAME              3\n",
       "PARKING_SPACE_QTY          23\n",
       "SALES_AREA_SIZE_NUM        72\n",
       "AVG_WEEKLY_BASKETS         76\n",
       "dtype: int64"
      ]
     },
     "execution_count": 36,
     "metadata": {},
     "output_type": "execute_result"
    }
   ],
   "source": [
    "store_data.nunique()"
   ]
  },
  {
   "cell_type": "markdown",
   "metadata": {},
   "source": [
    "#### STORE_NAME ADDRESS_CITY_NAME"
   ]
  },
  {
   "cell_type": "markdown",
   "metadata": {},
   "source": [
    "##### STORE_NAME contains data present in other columns and ADDRESS_CITY_NAME has high cardinality hence both can be removed"
   ]
  },
  {
   "cell_type": "code",
   "execution_count": 37,
   "metadata": {},
   "outputs": [],
   "source": [
    "store_data = store_data.drop(columns=['STORE_NAME', 'ADDRESS_CITY_NAME'], axis = 1)"
   ]
  },
  {
   "cell_type": "markdown",
   "metadata": {},
   "source": [
    "#### ADDRESS_STATE_PROV_CODE  MSA_CODE"
   ]
  },
  {
   "cell_type": "markdown",
   "metadata": {},
   "source": [
    "##### ONE HOT ENCODING"
   ]
  },
  {
   "cell_type": "code",
   "execution_count": 38,
   "metadata": {},
   "outputs": [],
   "source": [
    "store_data = pd.concat([pd.get_dummies(store_data[[\"ADDRESS_STATE_PROV_CODE\", \"MSA_CODE\"]]), store_data], axis = 1)"
   ]
  },
  {
   "cell_type": "code",
   "execution_count": 39,
   "metadata": {},
   "outputs": [],
   "source": [
    "store_data = store_data.drop([\"ADDRESS_STATE_PROV_CODE\", \"MSA_CODE\"], axis = 1)"
   ]
  },
  {
   "cell_type": "markdown",
   "metadata": {},
   "source": [
    "#### SEG_VALUE_NAME"
   ]
  },
  {
   "cell_type": "markdown",
   "metadata": {},
   "source": [
    "##### LABEL ENCODING"
   ]
  },
  {
   "cell_type": "code",
   "execution_count": 40,
   "metadata": {},
   "outputs": [],
   "source": [
    "store_data['SEG_VALUE_NAME'] = store_data['SEG_VALUE_NAME'].map({'VALUE': 1, 'MAINSTREAM' : 2, 'UPSCALE': 3})"
   ]
  },
  {
   "cell_type": "markdown",
   "metadata": {},
   "source": [
    "#### PARKING_SPACE_QTY"
   ]
  },
  {
   "cell_type": "code",
   "execution_count": 41,
   "metadata": {},
   "outputs": [
    {
     "data": {
      "text/html": [
       "<div>\n",
       "<style scoped>\n",
       "    .dataframe tbody tr th:only-of-type {\n",
       "        vertical-align: middle;\n",
       "    }\n",
       "\n",
       "    .dataframe tbody tr th {\n",
       "        vertical-align: top;\n",
       "    }\n",
       "\n",
       "    .dataframe thead th {\n",
       "        text-align: right;\n",
       "    }\n",
       "</style>\n",
       "<table border=\"1\" class=\"dataframe\">\n",
       "  <thead>\n",
       "    <tr style=\"text-align: right;\">\n",
       "      <th></th>\n",
       "      <th>PARKING_SPACE_QTY</th>\n",
       "      <th>SALES_AREA_SIZE_NUM</th>\n",
       "    </tr>\n",
       "  </thead>\n",
       "  <tbody>\n",
       "    <tr>\n",
       "      <th>PARKING_SPACE_QTY</th>\n",
       "      <td>1.000000</td>\n",
       "      <td>0.763274</td>\n",
       "    </tr>\n",
       "    <tr>\n",
       "      <th>SALES_AREA_SIZE_NUM</th>\n",
       "      <td>0.763274</td>\n",
       "      <td>1.000000</td>\n",
       "    </tr>\n",
       "  </tbody>\n",
       "</table>\n",
       "</div>"
      ],
      "text/plain": [
       "                     PARKING_SPACE_QTY  SALES_AREA_SIZE_NUM\n",
       "PARKING_SPACE_QTY             1.000000             0.763274\n",
       "SALES_AREA_SIZE_NUM           0.763274             1.000000"
      ]
     },
     "execution_count": 41,
     "metadata": {},
     "output_type": "execute_result"
    }
   ],
   "source": [
    "store_data[['PARKING_SPACE_QTY','SALES_AREA_SIZE_NUM']].corr()"
   ]
  },
  {
   "cell_type": "markdown",
   "metadata": {},
   "source": [
    "##### DUE TO HIGH CORRELATION BETWEEN PARKING_SPACE_QTY AND SALES_AREA_SIZE_NUM, PARKING_SPACE_QTY CAN BE REMOVED"
   ]
  },
  {
   "cell_type": "code",
   "execution_count": 42,
   "metadata": {},
   "outputs": [],
   "source": [
    "store_data = store_data.drop(['PARKING_SPACE_QTY'], axis = 1)"
   ]
  },
  {
   "cell_type": "code",
   "execution_count": 43,
   "metadata": {},
   "outputs": [
    {
     "data": {
      "text/html": [
       "<div>\n",
       "<style scoped>\n",
       "    .dataframe tbody tr th:only-of-type {\n",
       "        vertical-align: middle;\n",
       "    }\n",
       "\n",
       "    .dataframe tbody tr th {\n",
       "        vertical-align: top;\n",
       "    }\n",
       "\n",
       "    .dataframe thead th {\n",
       "        text-align: right;\n",
       "    }\n",
       "</style>\n",
       "<table border=\"1\" class=\"dataframe\">\n",
       "  <thead>\n",
       "    <tr style=\"text-align: right;\">\n",
       "      <th></th>\n",
       "      <th>ADDRESS_STATE_PROV_CODE_IN</th>\n",
       "      <th>ADDRESS_STATE_PROV_CODE_KY</th>\n",
       "      <th>ADDRESS_STATE_PROV_CODE_OH</th>\n",
       "      <th>ADDRESS_STATE_PROV_CODE_TX</th>\n",
       "      <th>STORE_ID</th>\n",
       "      <th>SEG_VALUE_NAME</th>\n",
       "      <th>SALES_AREA_SIZE_NUM</th>\n",
       "      <th>AVG_WEEKLY_BASKETS</th>\n",
       "    </tr>\n",
       "  </thead>\n",
       "  <tbody>\n",
       "    <tr>\n",
       "      <th>0</th>\n",
       "      <td>0</td>\n",
       "      <td>1</td>\n",
       "      <td>0</td>\n",
       "      <td>0</td>\n",
       "      <td>367</td>\n",
       "      <td>1</td>\n",
       "      <td>24721</td>\n",
       "      <td>12707</td>\n",
       "    </tr>\n",
       "    <tr>\n",
       "      <th>1</th>\n",
       "      <td>0</td>\n",
       "      <td>1</td>\n",
       "      <td>0</td>\n",
       "      <td>0</td>\n",
       "      <td>389</td>\n",
       "      <td>2</td>\n",
       "      <td>46073</td>\n",
       "      <td>24767</td>\n",
       "    </tr>\n",
       "    <tr>\n",
       "      <th>2</th>\n",
       "      <td>0</td>\n",
       "      <td>0</td>\n",
       "      <td>0</td>\n",
       "      <td>1</td>\n",
       "      <td>613</td>\n",
       "      <td>2</td>\n",
       "      <td>64926</td>\n",
       "      <td>29386</td>\n",
       "    </tr>\n",
       "    <tr>\n",
       "      <th>3</th>\n",
       "      <td>0</td>\n",
       "      <td>0</td>\n",
       "      <td>0</td>\n",
       "      <td>1</td>\n",
       "      <td>623</td>\n",
       "      <td>2</td>\n",
       "      <td>46930</td>\n",
       "      <td>36741</td>\n",
       "    </tr>\n",
       "    <tr>\n",
       "      <th>4</th>\n",
       "      <td>0</td>\n",
       "      <td>0</td>\n",
       "      <td>1</td>\n",
       "      <td>0</td>\n",
       "      <td>2277</td>\n",
       "      <td>3</td>\n",
       "      <td>81958</td>\n",
       "      <td>54053</td>\n",
       "    </tr>\n",
       "  </tbody>\n",
       "</table>\n",
       "</div>"
      ],
      "text/plain": [
       "   ADDRESS_STATE_PROV_CODE_IN  ADDRESS_STATE_PROV_CODE_KY  \\\n",
       "0                           0                           1   \n",
       "1                           0                           1   \n",
       "2                           0                           0   \n",
       "3                           0                           0   \n",
       "4                           0                           0   \n",
       "\n",
       "   ADDRESS_STATE_PROV_CODE_OH  ADDRESS_STATE_PROV_CODE_TX  STORE_ID  \\\n",
       "0                           0                           0       367   \n",
       "1                           0                           0       389   \n",
       "2                           0                           1       613   \n",
       "3                           0                           1       623   \n",
       "4                           1                           0      2277   \n",
       "\n",
       "   SEG_VALUE_NAME  SALES_AREA_SIZE_NUM  AVG_WEEKLY_BASKETS  \n",
       "0               1                24721               12707  \n",
       "1               2                46073               24767  \n",
       "2               2                64926               29386  \n",
       "3               2                46930               36741  \n",
       "4               3                81958               54053  "
      ]
     },
     "execution_count": 43,
     "metadata": {},
     "output_type": "execute_result"
    }
   ],
   "source": [
    "store_data.head()"
   ]
  },
  {
   "cell_type": "markdown",
   "metadata": {},
   "source": [
    "## TRAIN / VALIDATION / TEST SPLIT"
   ]
  },
  {
   "cell_type": "markdown",
   "metadata": {},
   "source": [
    "##### SINCE THE PREDICTION IS TIME SERIES DEPENDENT THEREFORE K FOLD CANT BE USED AS IT WILL TAKE RANDOM SAMPLES"
   ]
  },
  {
   "cell_type": "code",
   "execution_count": 44,
   "metadata": {},
   "outputs": [],
   "source": [
    "merged_data = train.merge(product_data,how='left', on='UPC')\n",
    "merged_data = merged_data.merge(store_data, how='left', left_on='STORE_NUM', right_on='STORE_ID')"
   ]
  },
  {
   "cell_type": "code",
   "execution_count": 45,
   "metadata": {},
   "outputs": [],
   "source": [
    "merged_data = merged_data.drop(columns=['STORE_ID'])"
   ]
  },
  {
   "cell_type": "code",
   "execution_count": 46,
   "metadata": {},
   "outputs": [],
   "source": [
    "week = merged_data['WEEK_END_DATE'].unique()"
   ]
  },
  {
   "cell_type": "code",
   "execution_count": 47,
   "metadata": {},
   "outputs": [],
   "source": [
    "def validation_df(data, week, no_of_months, no_of_validation):\n",
    "    \n",
    "    model_set = []\n",
    "    set_n = 1\n",
    "    for w in range(len(week)-1,0,-1):\n",
    "        x_data = {}\n",
    "\n",
    "        x_data['train_start'] = week[w-3-4*no_of_months]\n",
    "        x_data['train_end'] = week[w-4]\n",
    "        x_data['no_days_train'] = x_data['train_end'] - x_data['train_start']\n",
    "        train_set = data[(data.WEEK_END_DATE >= x_data['train_start']) & (data.WEEK_END_DATE <= x_data['train_end'])]\n",
    "        x_data['train_shape'] = train_set.shape[0]\n",
    "        \n",
    "        x_data['validate_week'] = week[w-2]\n",
    "        x_data['validation_shape']  = data[data.WEEK_END_DATE == x_data['validate_week']].shape[0]\n",
    "        \n",
    "        x_data['test_week'] = week[w]\n",
    "        x_data['test_shape'] = data[data.WEEK_END_DATE == x_data['test_week']].shape[0]\n",
    "        \n",
    "        x_data['set_no'] = 'set'+str(set_n)\n",
    "         \n",
    "        set_n +=1\n",
    "        model_set.append(x_data)\n",
    "        if(len(model_set) == no_of_validation):\n",
    "            break\n",
    "\n",
    "    df = pd.DataFrame.from_dict(model_set)\n",
    "    df['no_days_train'] = df['no_days_train'] + timedelta(days=7)\n",
    "    return df    "
   ]
  },
  {
   "cell_type": "code",
   "execution_count": 48,
   "metadata": {},
   "outputs": [
    {
     "data": {
      "text/html": [
       "<div>\n",
       "<style scoped>\n",
       "    .dataframe tbody tr th:only-of-type {\n",
       "        vertical-align: middle;\n",
       "    }\n",
       "\n",
       "    .dataframe tbody tr th {\n",
       "        vertical-align: top;\n",
       "    }\n",
       "\n",
       "    .dataframe thead th {\n",
       "        text-align: right;\n",
       "    }\n",
       "</style>\n",
       "<table border=\"1\" class=\"dataframe\">\n",
       "  <thead>\n",
       "    <tr style=\"text-align: right;\">\n",
       "      <th></th>\n",
       "      <th>train_start</th>\n",
       "      <th>train_end</th>\n",
       "      <th>no_days_train</th>\n",
       "      <th>train_shape</th>\n",
       "      <th>validate_week</th>\n",
       "      <th>validation_shape</th>\n",
       "      <th>test_week</th>\n",
       "      <th>test_shape</th>\n",
       "      <th>set_no</th>\n",
       "    </tr>\n",
       "  </thead>\n",
       "  <tbody>\n",
       "    <tr>\n",
       "      <th>0</th>\n",
       "      <td>2011-06-15</td>\n",
       "      <td>2011-08-31</td>\n",
       "      <td>84 days</td>\n",
       "      <td>19647</td>\n",
       "      <td>2011-09-14</td>\n",
       "      <td>1640</td>\n",
       "      <td>2011-09-28</td>\n",
       "      <td>1642</td>\n",
       "      <td>set1</td>\n",
       "    </tr>\n",
       "    <tr>\n",
       "      <th>1</th>\n",
       "      <td>2011-06-08</td>\n",
       "      <td>2011-08-24</td>\n",
       "      <td>84 days</td>\n",
       "      <td>19657</td>\n",
       "      <td>2011-09-07</td>\n",
       "      <td>1632</td>\n",
       "      <td>2011-09-21</td>\n",
       "      <td>1638</td>\n",
       "      <td>set2</td>\n",
       "    </tr>\n",
       "    <tr>\n",
       "      <th>2</th>\n",
       "      <td>2011-06-01</td>\n",
       "      <td>2011-08-17</td>\n",
       "      <td>84 days</td>\n",
       "      <td>19654</td>\n",
       "      <td>2011-08-31</td>\n",
       "      <td>1629</td>\n",
       "      <td>2011-09-14</td>\n",
       "      <td>1640</td>\n",
       "      <td>set3</td>\n",
       "    </tr>\n",
       "  </tbody>\n",
       "</table>\n",
       "</div>"
      ],
      "text/plain": [
       "  train_start  train_end no_days_train  train_shape validate_week  \\\n",
       "0  2011-06-15 2011-08-31       84 days        19647    2011-09-14   \n",
       "1  2011-06-08 2011-08-24       84 days        19657    2011-09-07   \n",
       "2  2011-06-01 2011-08-17       84 days        19654    2011-08-31   \n",
       "\n",
       "   validation_shape  test_week  test_shape set_no  \n",
       "0              1640 2011-09-28        1642   set1  \n",
       "1              1632 2011-09-21        1638   set2  \n",
       "2              1629 2011-09-14        1640   set3  "
      ]
     },
     "execution_count": 48,
     "metadata": {},
     "output_type": "execute_result"
    }
   ],
   "source": [
    "validation_df(merged_data, week, no_of_months= 3, no_of_validation= 3)"
   ]
  },
  {
   "cell_type": "markdown",
   "metadata": {},
   "source": [
    "## MODEL"
   ]
  },
  {
   "cell_type": "code",
   "execution_count": 53,
   "metadata": {},
   "outputs": [],
   "source": [
    "def train_model(data, df, no_of_month, sethyp = \"normal\", n = 0):\n",
    "    \n",
    "    model_results_train = []\n",
    "    model_results_val = []\n",
    "    model_results_test = []\n",
    "    \n",
    "    for row in range(df.shape[0]):\n",
    "        row = df.iloc[row]\n",
    "        \n",
    "        train_set = data[(data['WEEK_END_DATE'] >= row['train_start']) & (data['WEEK_END_DATE'] <= row['train_end'])]\n",
    "        val_set = data[data['WEEK_END_DATE'] == row['validate_week']]\n",
    "        test_set = data[data['WEEK_END_DATE'] == row['test_week']]\n",
    "        \n",
    "        train_set['month'] = no_of_month\n",
    "        val_set['month'] = no_of_month\n",
    "        test_set['month'] = no_of_month\n",
    "        \n",
    "        train_x = train_set.drop(['WEEK_END_DATE', 'STORE_NUM', 'UPC', 'UNITS'], axis = 1)\n",
    "        train_y = train_set['UNITS']\n",
    "\n",
    "        val_x = val_set.drop(['WEEK_END_DATE', 'STORE_NUM', 'UPC', 'UNITS'], axis = 1)\n",
    "        val_y = val_set['UNITS']\n",
    "        \n",
    "        test_x = test_set.drop(['WEEK_END_DATE', 'STORE_NUM', 'UPC', 'UNITS'], axis = 1)\n",
    "        test_y = test_set['UNITS']\n",
    "    \n",
    "        if sethyp == \"normal\":\n",
    "            model_RFR = RandomForestRegressor(max_depth = 15, random_state = 0, n_jobs = -1, n_estimators=20)\n",
    "        elif sethyp == \"tune_estimators\":\n",
    "            model_RFR = RandomForestRegressor(max_depth = 15, random_state = 0, n_jobs = -1, n_estimators=n)\n",
    "        elif sethyp == \"tune_depth\":\n",
    "            model_RFR = RandomForestRegressor(max_depth = n, random_state = 0, n_jobs = -1, n_estimators=20)\n",
    "        \n",
    "        model_RFR.fit(train_x, train_y)\n",
    "        \n",
    "        predict_train = model_RFR.predict(train_x)\n",
    "        predict_train = predict_train.clip(min=0)\n",
    "        model_results_train.append(np.sqrt(msle(train_y, predict_train)))\n",
    "        \n",
    "        predict_val = model_RFR.predict(val_x)\n",
    "        predict_val = predict_val.clip(min=0)\n",
    "        model_results_val.append(np.sqrt(msle(val_y, predict_val)))\n",
    "        \n",
    "        predict_test = model_RFR.predict(test_x)\n",
    "        predict_test = predict_test.clip(min=0)\n",
    "        model_results_test.append(np.sqrt(msle(test_y, predict_test)))\n",
    "        \n",
    "    return np.mean(model_results_train), np.std(model_results_train), np.mean(model_results_val), np.std(model_results_val), np.mean(model_results_test), np.std(model_results_test)"
   ]
  },
  {
   "cell_type": "markdown",
   "metadata": {},
   "source": [
    "### CHECKING WHICH TRAIN SIZE IS GOOD"
   ]
  },
  {
   "cell_type": "code",
   "execution_count": 56,
   "metadata": {},
   "outputs": [],
   "source": [
    "def get_matrix(max_months=1, max_cv=1):\n",
    "    \n",
    "    val_mean_list = []\n",
    "    val_std_list = []\n",
    "    \n",
    "    for i in tqdm(range(1,max_months+1,1)):\n",
    "        for j in range(1,max_cv+1,1):\n",
    "            val_err = {}\n",
    "            val_std = {}\n",
    "            val_err['No_of_months'] = i\n",
    "            val_err['validation_sets'] = j\n",
    "            val_std['No_of_months'] = i\n",
    "            val_std['validation_sets'] = j\n",
    "            _,_,val_err['Results'],val_std['Results'],_,_ = train_model(merged_data,validation_df(merged_data, week, no_of_months=i, no_of_validation=j),i)\n",
    "            val_mean_list.append(val_err)\n",
    "            val_std_list.append(val_std)\n",
    "            \n",
    "            \n",
    "    return pd.DataFrame.from_dict(val_mean_list).pivot_table(index= 'No_of_months', columns= 'validation_sets',fill_value=0) , pd.DataFrame.from_dict(val_std_list).pivot_table(index= 'No_of_months', columns= 'validation_sets',fill_value=0)"
   ]
  },
  {
   "cell_type": "code",
   "execution_count": 57,
   "metadata": {},
   "outputs": [
    {
     "name": "stderr",
     "output_type": "stream",
     "text": [
      "100%|██████████████████████████████████████████████████████████████████████████████████| 12/12 [04:23<00:00, 21.98s/it]\n"
     ]
    }
   ],
   "source": [
    "final_mean, final_std = get_matrix(max_months=12, max_cv=5)"
   ]
  },
  {
   "cell_type": "code",
   "execution_count": 58,
   "metadata": {},
   "outputs": [
    {
     "data": {
      "text/plain": [
       "(12.5, -0.5)"
      ]
     },
     "execution_count": 58,
     "metadata": {},
     "output_type": "execute_result"
    },
    {
     "data": {
      "image/png": "[encoded data removed]",
      "text/plain": [
       "<Figure size 1080x504 with 2 Axes>"
      ]
     },
     "metadata": {
      "needs_background": "light"
     },
     "output_type": "display_data"
    }
   ],
   "source": [
    "final_mean.columns = final_mean.columns.droplevel()\n",
    "plt.figure(figsize=(15,7))\n",
    "ax = sns.heatmap(final_mean[final_mean.columns],annot=True)\n",
    "bottom, top = ax.get_ylim()\n",
    "ax.set_ylim(bottom + 0.5, top - 0.5)"
   ]
  },
  {
   "cell_type": "code",
   "execution_count": 59,
   "metadata": {},
   "outputs": [
    {
     "data": {
      "text/plain": [
       "(12.5, -0.5)"
      ]
     },
     "execution_count": 59,
     "metadata": {},
     "output_type": "execute_result"
    },
    {
     "data": {
      "image/png": "[encoded data removed]",
      "text/plain": [
       "<Figure size 1080x504 with 2 Axes>"
      ]
     },
     "metadata": {
      "needs_background": "light"
     },
     "output_type": "display_data"
    }
   ],
   "source": [
    "final_std.columns = final_std.columns.droplevel()\n",
    "plt.figure(figsize=(15,7))\n",
    "ax = sns.heatmap(final_std[final_std.columns],annot=True)\n",
    "bottom, top = ax.get_ylim()\n",
    "ax.set_ylim(bottom + 0.5, top - 0.5)"
   ]
  },
  {
   "cell_type": "markdown",
   "metadata": {},
   "source": [
    "##### 2 MONTHS TRAIN SIZE HAD LOWEST RMSLE AND STD"
   ]
  },
  {
   "cell_type": "markdown",
   "metadata": {},
   "source": [
    "### CHECKING WHICH CV SIZE IS GOOD FOR 10 MONTHS TRAIN"
   ]
  },
  {
   "cell_type": "code",
   "execution_count": 66,
   "metadata": {},
   "outputs": [],
   "source": [
    "def get_matrix_cv_check(months=1, max_cv=1):\n",
    "    \n",
    "    val_mean_list = []\n",
    "    val_std_list = []\n",
    "    for j in tqdm(range(1,max_cv+1,1)):\n",
    "        val_err = {}\n",
    "        val_std = {}\n",
    "        val_err['No_of_months'] = months\n",
    "        val_err['validation_sets'] = j\n",
    "        val_std['No_of_months'] = months\n",
    "        val_std['validation_sets'] = j\n",
    "        _,_,val_err['Results'],val_std['Results'],_,_ = train_model(merged_data,validation_df(merged_data, week, no_of_months=months, no_of_validation=j),months)\n",
    "        val_mean_list.append(val_err)\n",
    "        val_std_list.append(val_std)\n",
    "\n",
    "            \n",
    "    return pd.DataFrame.from_dict(val_mean_list).pivot_table(index= 'No_of_months', columns= 'validation_sets',fill_value=0) , pd.DataFrame.from_dict(val_std_list).pivot_table(index= 'No_of_months', columns= 'validation_sets',fill_value=0)"
   ]
  },
  {
   "cell_type": "code",
   "execution_count": 70,
   "metadata": {},
   "outputs": [
    {
     "name": "stderr",
     "output_type": "stream",
     "text": [
      "100%|██████████████████████████████████████████████████████████████████████████████████| 20/20 [01:32<00:00,  4.62s/it]\n"
     ]
    }
   ],
   "source": [
    "final_mean, final_std = get_matrix_cv_check(months=2, max_cv=20)"
   ]
  },
  {
   "cell_type": "code",
   "execution_count": 71,
   "metadata": {},
   "outputs": [
    {
     "data": {
      "text/plain": [
       "(1.5, -0.5)"
      ]
     },
     "execution_count": 71,
     "metadata": {},
     "output_type": "execute_result"
    },
    {
     "data": {
      "image/png": "[encoded data removed]",
      "text/plain": [
       "<Figure size 1080x504 with 2 Axes>"
      ]
     },
     "metadata": {
      "needs_background": "light"
     },
     "output_type": "display_data"
    }
   ],
   "source": [
    "final_mean.columns = final_mean.columns.droplevel()\n",
    "plt.figure(figsize=(15,7))\n",
    "ax = sns.heatmap(final_mean[final_mean.columns],annot=True)\n",
    "bottom, top = ax.get_ylim()\n",
    "ax.set_ylim(bottom + 0.5, top - 0.5)"
   ]
  },
  {
   "cell_type": "code",
   "execution_count": 72,
   "metadata": {},
   "outputs": [
    {
     "data": {
      "text/plain": [
       "(1.5, -0.5)"
      ]
     },
     "execution_count": 72,
     "metadata": {},
     "output_type": "execute_result"
    },
    {
     "data": {
      "image/png": "[encoded data removed]",
      "text/plain": [
       "<Figure size 1080x504 with 2 Axes>"
      ]
     },
     "metadata": {
      "needs_background": "light"
     },
     "output_type": "display_data"
    }
   ],
   "source": [
    "final_std.columns = final_std.columns.droplevel()\n",
    "plt.figure(figsize=(15,7))\n",
    "ax = sns.heatmap(final_std[final_std.columns],annot=True)\n",
    "bottom, top = ax.get_ylim()\n",
    "ax.set_ylim(bottom + 0.5, top - 0.5)"
   ]
  },
  {
   "cell_type": "markdown",
   "metadata": {},
   "source": [
    " ##### 17 GAVE LEAST RMSLE AND STD"
   ]
  },
  {
   "cell_type": "markdown",
   "metadata": {},
   "source": [
    "##### TRAINING LENGTH OF 2 MONTHS AND 17 VALIDATION SETS GIVES LOWEST ERROR AND DEVIATION BETWEEN RESULTS"
   ]
  },
  {
   "cell_type": "code",
   "execution_count": 73,
   "metadata": {},
   "outputs": [],
   "source": [
    "train,_,val,_,_,_ = train_model(merged_data,validation_df(merged_data, week, no_of_months=2, no_of_validation=17),2)"
   ]
  },
  {
   "cell_type": "code",
   "execution_count": 74,
   "metadata": {},
   "outputs": [
    {
     "data": {
      "text/plain": [
       "0.3351133953142819"
      ]
     },
     "execution_count": 74,
     "metadata": {},
     "output_type": "execute_result"
    }
   ],
   "source": [
    "train"
   ]
  },
  {
   "cell_type": "code",
   "execution_count": 75,
   "metadata": {},
   "outputs": [
    {
     "data": {
      "text/plain": [
       "0.49844602639758273"
      ]
     },
     "execution_count": 75,
     "metadata": {},
     "output_type": "execute_result"
    }
   ],
   "source": [
    "val"
   ]
  },
  {
   "cell_type": "markdown",
   "metadata": {},
   "source": [
    "## FEATURE ENGINEERING"
   ]
  },
  {
   "cell_type": "markdown",
   "metadata": {},
   "source": [
    "##### ADDING NEW FEATURES TO REDUCE THE ERROR"
   ]
  },
  {
   "cell_type": "markdown",
   "metadata": {},
   "source": [
    "#### AVERAGE BEFORE 2 MONTH"
   ]
  },
  {
   "cell_type": "code",
   "execution_count": 76,
   "metadata": {},
   "outputs": [],
   "source": [
    "merged_data['2_MONTH_BEFORE'] = merged_data.WEEK_END_DATE - timedelta(days=63)\n",
    "merged_data['1_WEEK_BEFORE'] = merged_data.WEEK_END_DATE - timedelta(days=7)"
   ]
  },
  {
   "cell_type": "code",
   "execution_count": 77,
   "metadata": {},
   "outputs": [],
   "source": [
    "def get_average_units(x):\n",
    "    data_2month = merged_data[(merged_data.WEEK_END_DATE <= x['1_WEEK_BEFORE']) & (merged_data['WEEK_END_DATE'] >= x['2_MONTH_BEFORE']) & (merged_data['STORE_NUM'] == x['STORE_NUM']) & (merged_data['UPC'] == x['UPC']) ]\n",
    "    return data_2month.UNITS.mean() "
   ]
  },
  {
   "cell_type": "code",
   "execution_count": 78,
   "metadata": {},
   "outputs": [
    {
     "data": {
      "application/vnd.jupyter.widget-view+json": {
       "model_id": "01faa6ec727b4b33b549ca08057d0876",
       "version_major": 2,
       "version_minor": 0
      },
      "text/plain": [
       "HBox(children=(HTML(value=''), FloatProgress(value=0.0, max=232266.0), HTML(value='')))"
      ]
     },
     "metadata": {},
     "output_type": "display_data"
    },
    {
     "name": "stdout",
     "output_type": "stream",
     "text": [
      "\n"
     ]
    }
   ],
   "source": [
    "merged_data['AVERAGE_UNITS_IN_2_MONTH'] = merged_data.progress_apply(get_average_units,axis=1)"
   ]
  },
  {
   "cell_type": "code",
   "execution_count": 79,
   "metadata": {},
   "outputs": [],
   "source": [
    "merged_data['AVERAGE_UNITS_IN_2_MONTH'].fillna(0,inplace=True)"
   ]
  },
  {
   "cell_type": "code",
   "execution_count": 80,
   "metadata": {},
   "outputs": [],
   "source": [
    "merged_data = merged_data.drop(['2_MONTH_BEFORE', '1_WEEK_BEFORE'], axis=1)"
   ]
  },
  {
   "cell_type": "code",
   "execution_count": 81,
   "metadata": {},
   "outputs": [],
   "source": [
    "train,_,val,_,_,_ = train_model(merged_data, validation_df(merged_data, week, no_of_months=2, no_of_validation=17), 2)"
   ]
  },
  {
   "cell_type": "code",
   "execution_count": 82,
   "metadata": {},
   "outputs": [
    {
     "data": {
      "text/plain": [
       "0.2579981623322248"
      ]
     },
     "execution_count": 82,
     "metadata": {},
     "output_type": "execute_result"
    }
   ],
   "source": [
    "train"
   ]
  },
  {
   "cell_type": "code",
   "execution_count": 83,
   "metadata": {},
   "outputs": [
    {
     "data": {
      "text/plain": [
       "0.44690674359567367"
      ]
     },
     "execution_count": 83,
     "metadata": {},
     "output_type": "execute_result"
    }
   ],
   "source": [
    "val"
   ]
  },
  {
   "cell_type": "markdown",
   "metadata": {},
   "source": [
    "## HYPERPARAMETER TUNING"
   ]
  },
  {
   "cell_type": "markdown",
   "metadata": {},
   "source": [
    "### N_ESTIMATORS"
   ]
  },
  {
   "cell_type": "code",
   "execution_count": 84,
   "metadata": {},
   "outputs": [],
   "source": [
    "train_err = []\n",
    "val_err = []\n",
    "for n in range(10,100,5):\n",
    "    train,_,val,_,_,_ = train_model(merged_data, validation_df(merged_data, week, no_of_months=2, no_of_validation=17), 2, \"tune_estimators\", n)\n",
    "    train_err.append(train)\n",
    "    val_err.append(val)"
   ]
  },
  {
   "cell_type": "code",
   "execution_count": 85,
   "metadata": {},
   "outputs": [
    {
     "data": {
      "image/png": "[encoded data removed]",
      "text/plain": [
       "<Figure size 1224x504 with 1 Axes>"
      ]
     },
     "metadata": {
      "needs_background": "light"
     },
     "output_type": "display_data"
    }
   ],
   "source": [
    "plt.figure(figsize=(17,7))\n",
    "plt.plot(range(10,100,5), train_err, marker='o',label='train');\n",
    "plt.plot(range(10,100,5), val_err, marker='o',label='val');\n",
    "plt.title('Model: Random Forest Regressor')\n",
    "plt.ylabel('RMSLE')\n",
    "plt.xlabel('n_estimators')\n",
    "plt.legend();"
   ]
  },
  {
   "cell_type": "markdown",
   "metadata": {},
   "source": [
    "#### MAX_DEPTH"
   ]
  },
  {
   "cell_type": "code",
   "execution_count": 86,
   "metadata": {},
   "outputs": [],
   "source": [
    "train_err = []\n",
    "val_err = []\n",
    "for n in range(15,25):\n",
    "    train,_,val,_,_,_ = train_model(merged_data, validation_df(merged_data, week, no_of_months=5, no_of_validation=15), 5, \"tune_depth\", n)\n",
    "    train_err.append(train)\n",
    "    val_err.append(val)"
   ]
  },
  {
   "cell_type": "code",
   "execution_count": 87,
   "metadata": {
    "scrolled": true
   },
   "outputs": [
    {
     "data": {
      "image/png": "[encoded data removed]",
      "text/plain": [
       "<Figure size 1224x504 with 1 Axes>"
      ]
     },
     "metadata": {
      "needs_background": "light"
     },
     "output_type": "display_data"
    }
   ],
   "source": [
    "plt.figure(figsize=(17,7))\n",
    "plt.plot(range(15,25), train_err, marker='o',label='train');\n",
    "plt.plot(range(15,25), val_err, marker='o',label='test');\n",
    "plt.title('Model: Random Forest Regressor')\n",
    "plt.ylabel('RMSLE')\n",
    "plt.xlabel('max_depth')\n",
    "plt.legend();"
   ]
  },
  {
   "cell_type": "markdown",
   "metadata": {},
   "source": [
    "## FINAL MODEL"
   ]
  },
  {
   "cell_type": "code",
   "execution_count": 89,
   "metadata": {},
   "outputs": [],
   "source": [
    "train,_,val,_,test,_ = train_model(merged_data, validation_df(merged_data, week, no_of_months=2, no_of_validation=17), 2)"
   ]
  },
  {
   "cell_type": "code",
   "execution_count": 90,
   "metadata": {},
   "outputs": [
    {
     "data": {
      "text/plain": [
       "0.2579981623322248"
      ]
     },
     "execution_count": 90,
     "metadata": {},
     "output_type": "execute_result"
    }
   ],
   "source": [
    "train"
   ]
  },
  {
   "cell_type": "code",
   "execution_count": 91,
   "metadata": {},
   "outputs": [
    {
     "data": {
      "text/plain": [
       "0.4542342119205956"
      ]
     },
     "execution_count": 91,
     "metadata": {},
     "output_type": "execute_result"
    }
   ],
   "source": [
    "test"
   ]
  },
  {
   "cell_type": "code",
   "execution_count": 92,
   "metadata": {},
   "outputs": [
    {
     "data": {
      "text/plain": [
       "0.4469067435956737"
      ]
     },
     "execution_count": 92,
     "metadata": {},
     "output_type": "execute_result"
    }
   ],
   "source": [
    "val"
   ]
  },
  {
   "cell_type": "code",
   "execution_count": null,
   "metadata": {},
   "outputs": [],
   "source": []
  }
 ],
 "metadata": {
  "kernelspec": {
   "display_name": "Python 3",
   "language": "python",
   "name": "python3"
  },
  "language_info": {
   "codemirror_mode": {
    "name": "ipython",
    "version": 3
   },
   "file_extension": ".py",
   "mimetype": "text/x-python",
   "name": "python",
   "nbconvert_exporter": "python",
   "pygments_lexer": "ipython3",
   "version": "3.8.5"
  }
 },
 "nbformat": 4,
 "nbformat_minor": 4
}
